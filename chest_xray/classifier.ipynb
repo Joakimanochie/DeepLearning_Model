{
 "cells": [
  {
   "cell_type": "code",
   "execution_count": 1,
   "metadata": {},
   "outputs": [],
   "source": [
    "import os\n",
    "\n",
    "import numpy as np\n",
    "#import opencv\n",
    "\n",
    "import matplotlib.pyplot as plt\n",
    "import matplotlib.image as mpimg\n",
    "%matplotlib inline\n",
    "\n",
    "from PIL import Image\n",
    "from IPython.display import display\n",
    "\n",
    "import torch\n",
    "import torch.nn as nn\n",
    "\n",
    "from torch.utils.data import DataLoader\n",
    "import torch.nn.functional as F\n",
    "from torchvision import datasets, transforms, models\n",
    "from torch.optim.lr_scheduler import StepLR\n",
    "#from torchsummary import summary\n",
    "from tqdm import tqdm"
   ]
  },
  {
   "cell_type": "code",
   "execution_count": 3,
   "metadata": {},
   "outputs": [],
   "source": [
    "data_path = r'C:\\Users\\HP\\OneDrive\\Documents\\Github\\DeepLearning_Model\\chest_xray\\chest_xray'"
   ]
  },
  {
   "cell_type": "code",
   "execution_count": 6,
   "metadata": {},
   "outputs": [],
   "source": [
    "class_name = ['NORMAL', 'PNEUMONIA']\n",
    "def get_list_files(dirName):\n",
    "    '''\n",
    "    input - directory location\n",
    "    output - list the files in the directory\n",
    "    '''\n",
    "    files_list = os.listdir(dirName)\n",
    "    return files_list\n",
    "\n",
    "files_list_normal_train = get_list_files(data_path+'/train/'+class_name[0])\n",
    "files_list_pneu_train = get_list_files(data_path+'/train/'+class_name[1])\n",
    "\n",
    "files_list_normal_test = get_list_files(data_path+'/test/'+class_name[0])\n",
    "files_list_pneu_test = get_list_files(data_path+'/test/'+class_name[1])"
   ]
  },
  {
   "cell_type": "code",
   "execution_count": 8,
   "metadata": {},
   "outputs": [
    {
     "name": "stdout",
     "output_type": "stream",
     "text": [
      "Number of training images in Normal 1349\n",
      "Number of training images in Pneumonia 3883\n",
      "Number of test images in Normal 234\n",
      "Number of test images in Pneumonia 390\n"
     ]
    }
   ],
   "source": [
    "print(\"Number of training images in Normal {}\".format(len(files_list_normal_train)))\n",
    "print(\"Number of training images in Pneumonia {}\".format(len(files_list_pneu_train)))\n",
    "print(\"Number of test images in Normal {}\".format(len(files_list_normal_test)))\n",
    "print(\"Number of test images in Pneumonia {}\".format(len(files_list_pneu_test)))"
   ]
  },
  {
   "cell_type": "code",
   "execution_count": null,
   "metadata": {},
   "outputs": [],
   "source": []
  }
 ],
 "metadata": {
  "kernelspec": {
   "display_name": "base",
   "language": "python",
   "name": "python3"
  },
  "language_info": {
   "codemirror_mode": {
    "name": "ipython",
    "version": 3
   },
   "file_extension": ".py",
   "mimetype": "text/x-python",
   "name": "python",
   "nbconvert_exporter": "python",
   "pygments_lexer": "ipython3",
   "version": "3.10.9"
  }
 },
 "nbformat": 4,
 "nbformat_minor": 2
}
